{
  "nbformat": 4,
  "nbformat_minor": 0,
  "metadata": {
    "colab": {
      "provenance": []
    },
    "kernelspec": {
      "name": "python3",
      "display_name": "Python 3"
    },
    "language_info": {
      "name": "python"
    }
  },
  "cells": [
    {
      "cell_type": "markdown",
      "source": [
        "<h1> Importing Libraries </h1>"
      ],
      "metadata": {
        "id": "1dSalVj2Wk1-"
      }
    },
    {
      "cell_type": "code",
      "source": [
        "# Import necessary libraries\n",
        "import pandas as pd\n",
        "from sklearn.model_selection import train_test_split\n",
        "from sklearn.linear_model import LinearRegression\n",
        "from sklearn.metrics import mean_squared_error, r2_score\n",
        "from google.colab import files\n",
        "\n",
        "# Upload the dataset\n",
        "print(\"Please upload the dataset:\")\n",
        "uploaded = files.upload()\n",
        "\n",
        "# Load the dataset\n",
        "file_path = list(uploaded.keys())[0]  # Get the uploaded file name\n",
        "print(f\"Loading the dataset from {file_path}...\")\n",
        "data = pd.read_csv(file_path)\n",
        "\n",
        "# Display sample data\n",
        "print(\"\\nSample Data:\")\n",
        "print(data.head())\n"
      ],
      "metadata": {
        "id": "J3UxpZVCTozw"
      },
      "execution_count": null,
      "outputs": []
    },
    {
      "cell_type": "markdown",
      "source": [
        "<h1> Selecting Features and Target Variable </h1>"
      ],
      "metadata": {
        "id": "zvTjf-3DWq8c"
      }
    },
    {
      "cell_type": "code",
      "source": [
        "# Selecting relevant features and target variable\n",
        "target = 'SalePrice'\n",
        "features = [\n",
        "    'MSSubClass', 'LotFrontage', 'LotArea', 'OverallQual', 'OverallCond', 'YearBuilt',\n",
        "    'YearRemodAdd', 'TotalBsmtSF', '1stFlrSF', '2ndFlrSF', 'GrLivArea',\n",
        "    'GarageCars', 'GarageArea', 'FullBath', 'HalfBath', 'Fireplaces'\n",
        "]\n"
      ],
      "metadata": {
        "id": "FYkuxrhLWVBx"
      },
      "execution_count": null,
      "outputs": []
    },
    {
      "cell_type": "markdown",
      "source": [
        "<h1>Preprocessing the Data</h1>"
      ],
      "metadata": {
        "id": "G6O3ysyUWs1S"
      }
    },
    {
      "cell_type": "code",
      "source": [
        "# Preprocessing the data\n",
        "print(\"\\nPreprocessing the data...\")\n",
        "\n",
        "# Extracting features (X) and target (y)\n",
        "X = data[features].copy()\n",
        "y = data[target]\n",
        "\n",
        "# Handling missing values by filling with 0\n",
        "X = X.fillna(0)\n"
      ],
      "metadata": {
        "id": "CpQeHonjWW4g"
      },
      "execution_count": null,
      "outputs": []
    },
    {
      "cell_type": "markdown",
      "source": [
        "<h1>Splitting the Data</h1>"
      ],
      "metadata": {
        "id": "Rs0XcNolWwKR"
      }
    },
    {
      "cell_type": "code",
      "source": [
        "# Splitting the data into training and testing sets\n",
        "X_train, X_test, y_train, y_test = train_test_split(X, y, test_size=0.2, random_state=42)\n",
        "\n",
        "# Display the split sizes\n",
        "print(f\"Training Set Size: {X_train.shape[0]}\")\n",
        "print(f\"Test Set Size: {X_test.shape[0]}\")\n"
      ],
      "metadata": {
        "id": "fIUmK339WZkf"
      },
      "execution_count": null,
      "outputs": []
    },
    {
      "cell_type": "markdown",
      "source": [
        "<h1> Training the Model</h1>"
      ],
      "metadata": {
        "id": "ZtdpHM87W0Ru"
      }
    },
    {
      "cell_type": "code",
      "source": [
        "# Training the Linear Regression model\n",
        "print(\"\\nTraining the model...\")\n",
        "model = LinearRegression()\n",
        "model.fit(X_train, y_train)\n"
      ],
      "metadata": {
        "id": "QN23GrczWaFu"
      },
      "execution_count": null,
      "outputs": []
    },
    {
      "cell_type": "markdown",
      "source": [
        "<h1> Evaluating the Model</h1>"
      ],
      "metadata": {
        "id": "7s-pLiflW5SQ"
      }
    },
    {
      "cell_type": "code",
      "source": [
        "# Evaluating the model\n",
        "print(\"\\nEvaluating the model...\")\n",
        "\n",
        "# Predicting the house prices for the test set\n",
        "y_pred = model.predict(X_test)\n",
        "\n",
        "# Calculating the Mean Squared Error (MSE) and R^2 Score\n",
        "mse = mean_squared_error(y_test, y_pred)\n",
        "r2 = r2_score(y_test, y_pred)\n",
        "\n",
        "# Display the evaluation metrics\n",
        "print(f\"Mean Squared Error: {mse:.2f}\")\n",
        "print(f\"R^2 Score: {r2:.2f}\")\n"
      ],
      "metadata": {
        "id": "S-GrbTF7WceT"
      },
      "execution_count": null,
      "outputs": []
    },
    {
      "cell_type": "markdown",
      "source": [
        "<h1> Collecting User Input </h1>"
      ],
      "metadata": {
        "id": "knx7tr00W8-Q"
      }
    },
    {
      "cell_type": "code",
      "source": [
        "# Function to get user input for predicting house price\n",
        "def get_user_input():\n",
        "    print(\"\\nPlease provide the following information to predict the house price:\")\n",
        "    user_input = {\n",
        "        'MSSubClass': float(input(\"What is the building class (e.g., 20 = 1-story, 60 = 2-story)? Enter a number: \")),\n",
        "        'LotFrontage': float(input(\"What is the street frontage length of the property (in feet)? \")),\n",
        "        'LotArea': float(input(\"What is the total lot size of the property (in square feet)? \")),\n",
        "        'OverallQual': float(input(\"What is the overall quality of the house (1-10, where 10 is best)? \")),\n",
        "        'OverallCond': float(input(\"What is the overall condition of the house (1-10, where 10 is best)? \")),\n",
        "        'YearBuilt': float(input(\"What year was the house built? \")),\n",
        "        'YearRemodAdd': input(\"What year was the house remodeled or additions were made? (Enter 'No' if none): \"),\n",
        "        'TotalBsmtSF': float(input(\"What is the total basement area (in square feet)? \")),\n",
        "        '1stFlrSF': float(input(\"What is the first floor area (in square feet)? \")),\n",
        "        '2ndFlrSF': float(input(\"What is the second floor area (in square feet)? \")),\n",
        "        'GrLivArea': float(input(\"What is the above-ground living area (in square feet)? \")),\n",
        "        'GarageCars': float(input(\"How many cars can the garage hold? \")),\n",
        "        'GarageArea': float(input(\"What is the garage area (in square feet)? \")),\n",
        "        'FullBath': float(input(\"How many full bathrooms does the house have? \")),\n",
        "        'HalfBath': float(input(\"How many half bathrooms does the house have? \")),\n",
        "        'Fireplaces': float(input(\"How many fireplaces does the house have? \")),\n",
        "    }\n",
        "\n",
        "    # Handle 'No' response for YearRemodAdd\n",
        "    if user_input['YearRemodAdd'].lower() == 'no':\n",
        "        user_input['YearRemodAdd'] = user_input['YearBuilt']\n",
        "    else:\n",
        "        user_input['YearRemodAdd'] = float(user_input['YearRemodAdd'])\n",
        "\n",
        "    return pd.DataFrame([user_input])\n"
      ],
      "metadata": {
        "id": "onBf9brRWd_o"
      },
      "execution_count": null,
      "outputs": []
    },
    {
      "cell_type": "markdown",
      "source": [
        "<h1> Aligning Features with Training Data </h1>"
      ],
      "metadata": {
        "id": "Y0DGNT5bXBKE"
      }
    },
    {
      "cell_type": "code",
      "source": [
        "# Function to align user input with the training data features\n",
        "def align_features(user_data, training_columns):\n",
        "    for col in training_columns:\n",
        "        if col not in user_data:\n",
        "            user_data[col] = 0\n",
        "    return user_data[training_columns]\n"
      ],
      "metadata": {
        "id": "w3t7APLKWefM"
      },
      "execution_count": null,
      "outputs": []
    },
    {
      "cell_type": "markdown",
      "source": [
        "<h1>Collecting and Predicting User Input</h1>"
      ],
      "metadata": {
        "id": "HnmiFIKdXFqh"
      }
    },
    {
      "cell_type": "code",
      "source": [
        "# Collecting user input\n",
        "user_data = get_user_input()\n",
        "\n",
        "# Aligning the user input features with the model's training features\n",
        "training_columns = model.feature_names_in_\n",
        "user_data = align_features(user_data, training_columns)\n",
        "\n",
        "# Predicting the house price based on user input\n",
        "predicted_price = model.predict(user_data)\n",
        "\n",
        "# Displaying the predicted house price\n",
        "print(\"\\nPredicted House Price: ${:,.2f}\".format(predicted_price[0]))\n"
      ],
      "metadata": {
        "id": "eI9HyN0PWgE1"
      },
      "execution_count": null,
      "outputs": []
    },
    {
      "cell_type": "code",
      "source": [],
      "metadata": {
        "id": "NPLnvcdUWheq"
      },
      "execution_count": null,
      "outputs": []
    }
  ]
}